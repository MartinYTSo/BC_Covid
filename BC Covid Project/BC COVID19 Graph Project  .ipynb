{
 "cells": [
  {
   "cell_type": "code",
   "execution_count": 18,
   "metadata": {},
   "outputs": [],
   "source": [
    "import matplotlib.pyplot as plt\n",
    "import pandas as pd \n",
    "import numpy as np \n",
    "import os\n"
   ]
  },
  {
   "cell_type": "code",
   "execution_count": 19,
   "metadata": {},
   "outputs": [
    {
     "data": {
      "text/plain": [
       "'C:\\\\Users\\\\epicr\\\\Desktop\\\\BC Covid Project'"
      ]
     },
     "execution_count": 19,
     "metadata": {},
     "output_type": "execute_result"
    }
   ],
   "source": [
    " os.getcwd()\n",
    "os.chdir('C:/Users/epicr/Desktop/BC Covid Project')\n",
    " os.getcwd()"
   ]
  },
  {
   "cell_type": "code",
   "execution_count": 20,
   "metadata": {},
   "outputs": [],
   "source": [
    "df = pd.read_csv('data/BC__BCCDC_COVID19_Dashboard_Case_Details__latest.csv')"
   ]
  },
  {
   "cell_type": "code",
   "execution_count": 21,
   "metadata": {},
   "outputs": [
    {
     "data": {
      "text/html": [
       "<div>\n",
       "<style scoped>\n",
       "    .dataframe tbody tr th:only-of-type {\n",
       "        vertical-align: middle;\n",
       "    }\n",
       "\n",
       "    .dataframe tbody tr th {\n",
       "        vertical-align: top;\n",
       "    }\n",
       "\n",
       "    .dataframe thead th {\n",
       "        text-align: right;\n",
       "    }\n",
       "</style>\n",
       "<table border=\"1\" class=\"dataframe\">\n",
       "  <thead>\n",
       "    <tr style=\"text-align: right;\">\n",
       "      <th></th>\n",
       "      <th>Reported_Date</th>\n",
       "      <th>HA</th>\n",
       "      <th>Sex</th>\n",
       "      <th>Age_Group</th>\n",
       "      <th>Classification_Reported</th>\n",
       "    </tr>\n",
       "  </thead>\n",
       "  <tbody>\n",
       "    <tr>\n",
       "      <th>0</th>\n",
       "      <td>2020-01-29</td>\n",
       "      <td>Out of Canada</td>\n",
       "      <td>M</td>\n",
       "      <td>40-49</td>\n",
       "      <td>Lab-diagnosed</td>\n",
       "    </tr>\n",
       "    <tr>\n",
       "      <th>1</th>\n",
       "      <td>2020-02-06</td>\n",
       "      <td>Vancouver Coastal</td>\n",
       "      <td>F</td>\n",
       "      <td>50-59</td>\n",
       "      <td>Lab-diagnosed</td>\n",
       "    </tr>\n",
       "    <tr>\n",
       "      <th>2</th>\n",
       "      <td>2020-02-10</td>\n",
       "      <td>Out of Canada</td>\n",
       "      <td>F</td>\n",
       "      <td>20-29</td>\n",
       "      <td>Lab-diagnosed</td>\n",
       "    </tr>\n",
       "    <tr>\n",
       "      <th>3</th>\n",
       "      <td>2020-02-10</td>\n",
       "      <td>Out of Canada</td>\n",
       "      <td>M</td>\n",
       "      <td>30-39</td>\n",
       "      <td>Lab-diagnosed</td>\n",
       "    </tr>\n",
       "    <tr>\n",
       "      <th>4</th>\n",
       "      <td>2020-02-18</td>\n",
       "      <td>Interior</td>\n",
       "      <td>F</td>\n",
       "      <td>30-39</td>\n",
       "      <td>Lab-diagnosed</td>\n",
       "    </tr>\n",
       "    <tr>\n",
       "      <th>...</th>\n",
       "      <td>...</td>\n",
       "      <td>...</td>\n",
       "      <td>...</td>\n",
       "      <td>...</td>\n",
       "      <td>...</td>\n",
       "    </tr>\n",
       "    <tr>\n",
       "      <th>72745</th>\n",
       "      <td>2021-02-11</td>\n",
       "      <td>Vancouver Coastal</td>\n",
       "      <td>F</td>\n",
       "      <td>30-39</td>\n",
       "      <td>Lab-diagnosed</td>\n",
       "    </tr>\n",
       "    <tr>\n",
       "      <th>72746</th>\n",
       "      <td>2021-02-11</td>\n",
       "      <td>Fraser</td>\n",
       "      <td>F</td>\n",
       "      <td>20-29</td>\n",
       "      <td>Lab-diagnosed</td>\n",
       "    </tr>\n",
       "    <tr>\n",
       "      <th>72747</th>\n",
       "      <td>2021-02-11</td>\n",
       "      <td>Fraser</td>\n",
       "      <td>F</td>\n",
       "      <td>60-69</td>\n",
       "      <td>Lab-diagnosed</td>\n",
       "    </tr>\n",
       "    <tr>\n",
       "      <th>72748</th>\n",
       "      <td>2021-02-11</td>\n",
       "      <td>Vancouver Island</td>\n",
       "      <td>M</td>\n",
       "      <td>40-49</td>\n",
       "      <td>Lab-diagnosed</td>\n",
       "    </tr>\n",
       "    <tr>\n",
       "      <th>72749</th>\n",
       "      <td>2021-02-11</td>\n",
       "      <td>Interior</td>\n",
       "      <td>M</td>\n",
       "      <td>20-29</td>\n",
       "      <td>Lab-diagnosed</td>\n",
       "    </tr>\n",
       "  </tbody>\n",
       "</table>\n",
       "<p>72750 rows × 5 columns</p>\n",
       "</div>"
      ],
      "text/plain": [
       "      Reported_Date                 HA Sex Age_Group Classification_Reported\n",
       "0        2020-01-29      Out of Canada   M     40-49           Lab-diagnosed\n",
       "1        2020-02-06  Vancouver Coastal   F     50-59           Lab-diagnosed\n",
       "2        2020-02-10      Out of Canada   F     20-29           Lab-diagnosed\n",
       "3        2020-02-10      Out of Canada   M     30-39           Lab-diagnosed\n",
       "4        2020-02-18           Interior   F     30-39           Lab-diagnosed\n",
       "...             ...                ...  ..       ...                     ...\n",
       "72745    2021-02-11  Vancouver Coastal   F     30-39           Lab-diagnosed\n",
       "72746    2021-02-11             Fraser   F     20-29           Lab-diagnosed\n",
       "72747    2021-02-11             Fraser   F     60-69           Lab-diagnosed\n",
       "72748    2021-02-11   Vancouver Island   M     40-49           Lab-diagnosed\n",
       "72749    2021-02-11           Interior   M     20-29           Lab-diagnosed\n",
       "\n",
       "[72750 rows x 5 columns]"
      ]
     },
     "execution_count": 21,
     "metadata": {},
     "output_type": "execute_result"
    }
   ],
   "source": [
    "df"
   ]
  },
  {
   "cell_type": "code",
   "execution_count": 22,
   "metadata": {},
   "outputs": [],
   "source": [
    "df.drop(['Reported_Date', 'HA'], axis=1, inplace=True)"
   ]
  },
  {
   "cell_type": "code",
   "execution_count": 23,
   "metadata": {
    "scrolled": true
   },
   "outputs": [
    {
     "data": {
      "text/html": [
       "<div>\n",
       "<style scoped>\n",
       "    .dataframe tbody tr th:only-of-type {\n",
       "        vertical-align: middle;\n",
       "    }\n",
       "\n",
       "    .dataframe tbody tr th {\n",
       "        vertical-align: top;\n",
       "    }\n",
       "\n",
       "    .dataframe thead th {\n",
       "        text-align: right;\n",
       "    }\n",
       "</style>\n",
       "<table border=\"1\" class=\"dataframe\">\n",
       "  <thead>\n",
       "    <tr style=\"text-align: right;\">\n",
       "      <th></th>\n",
       "      <th>Sex</th>\n",
       "      <th>Age_Group</th>\n",
       "      <th>Classification_Reported</th>\n",
       "    </tr>\n",
       "  </thead>\n",
       "  <tbody>\n",
       "    <tr>\n",
       "      <th>0</th>\n",
       "      <td>M</td>\n",
       "      <td>40-49</td>\n",
       "      <td>Lab-diagnosed</td>\n",
       "    </tr>\n",
       "    <tr>\n",
       "      <th>1</th>\n",
       "      <td>F</td>\n",
       "      <td>50-59</td>\n",
       "      <td>Lab-diagnosed</td>\n",
       "    </tr>\n",
       "    <tr>\n",
       "      <th>2</th>\n",
       "      <td>F</td>\n",
       "      <td>20-29</td>\n",
       "      <td>Lab-diagnosed</td>\n",
       "    </tr>\n",
       "    <tr>\n",
       "      <th>3</th>\n",
       "      <td>M</td>\n",
       "      <td>30-39</td>\n",
       "      <td>Lab-diagnosed</td>\n",
       "    </tr>\n",
       "    <tr>\n",
       "      <th>4</th>\n",
       "      <td>F</td>\n",
       "      <td>30-39</td>\n",
       "      <td>Lab-diagnosed</td>\n",
       "    </tr>\n",
       "    <tr>\n",
       "      <th>...</th>\n",
       "      <td>...</td>\n",
       "      <td>...</td>\n",
       "      <td>...</td>\n",
       "    </tr>\n",
       "    <tr>\n",
       "      <th>72745</th>\n",
       "      <td>F</td>\n",
       "      <td>30-39</td>\n",
       "      <td>Lab-diagnosed</td>\n",
       "    </tr>\n",
       "    <tr>\n",
       "      <th>72746</th>\n",
       "      <td>F</td>\n",
       "      <td>20-29</td>\n",
       "      <td>Lab-diagnosed</td>\n",
       "    </tr>\n",
       "    <tr>\n",
       "      <th>72747</th>\n",
       "      <td>F</td>\n",
       "      <td>60-69</td>\n",
       "      <td>Lab-diagnosed</td>\n",
       "    </tr>\n",
       "    <tr>\n",
       "      <th>72748</th>\n",
       "      <td>M</td>\n",
       "      <td>40-49</td>\n",
       "      <td>Lab-diagnosed</td>\n",
       "    </tr>\n",
       "    <tr>\n",
       "      <th>72749</th>\n",
       "      <td>M</td>\n",
       "      <td>20-29</td>\n",
       "      <td>Lab-diagnosed</td>\n",
       "    </tr>\n",
       "  </tbody>\n",
       "</table>\n",
       "<p>72750 rows × 3 columns</p>\n",
       "</div>"
      ],
      "text/plain": [
       "      Sex Age_Group Classification_Reported\n",
       "0       M     40-49           Lab-diagnosed\n",
       "1       F     50-59           Lab-diagnosed\n",
       "2       F     20-29           Lab-diagnosed\n",
       "3       M     30-39           Lab-diagnosed\n",
       "4       F     30-39           Lab-diagnosed\n",
       "...    ..       ...                     ...\n",
       "72745   F     30-39           Lab-diagnosed\n",
       "72746   F     20-29           Lab-diagnosed\n",
       "72747   F     60-69           Lab-diagnosed\n",
       "72748   M     40-49           Lab-diagnosed\n",
       "72749   M     20-29           Lab-diagnosed\n",
       "\n",
       "[72750 rows x 3 columns]"
      ]
     },
     "execution_count": 23,
     "metadata": {},
     "output_type": "execute_result"
    }
   ],
   "source": [
    "df"
   ]
  },
  {
   "cell_type": "code",
   "execution_count": 24,
   "metadata": {},
   "outputs": [
    {
     "name": "stdout",
     "output_type": "stream",
     "text": [
      "3147 16623 13116 10809 9271 5992 3412 2324 1233\n"
     ]
    }
   ],
   "source": [
    "b=0\n",
    "c=0\n",
    "d=0\n",
    "e=0\n",
    "f=0\n",
    "g=0\n",
    "h=0\n",
    "i=0\n",
    "j =0\n",
    "k =0\n",
    "for ages in df['Age_Group']:\n",
    "    if  ages == '20-29':\n",
    "        c= c+1\n",
    "    elif ages== '<10':\n",
    "        b=b+1\n",
    "    elif ages== '30-39':\n",
    "        d=d+1\n",
    "    elif ages== '40-49':\n",
    "        e=e+1\n",
    "    elif ages== '50-59':\n",
    "        f=f+1\n",
    "    elif ages== '60-69':\n",
    "        g=g+1\n",
    "    elif ages== '70-79':\n",
    "        h=h+1\n",
    "    elif ages== '80-89':\n",
    "        i=i+1\n",
    "    elif ages== '90+':\n",
    "        j=j+1\n",
    "    else:\n",
    "        continue\n",
    "print (b,c,d,e,f,g,h,i,j)"
   ]
  },
  {
   "cell_type": "code",
   "execution_count": 43,
   "metadata": {},
   "outputs": [
    {
     "data": {
      "text/plain": [
       "Age_Group    object\n",
       "Infected      int64\n",
       "dtype: object"
      ]
     },
     "execution_count": 43,
     "metadata": {},
     "output_type": "execute_result"
    }
   ],
   "source": [
    "calculated_graph=  pd.read_csv('data/BC_Infections_Per_Age.csv')\n",
    "# bc_calculated_graph=calculated_graph[\"Age_Group\"].astype(str)\n",
    "# bc_calculated_graph\n",
    "calculated_graph.dtypes"
   ]
  },
  {
   "cell_type": "code",
   "execution_count": 69,
   "metadata": {},
   "outputs": [
    {
     "data": {
      "text/plain": [
       "Text(0.5, 1.0, 'Total COVID-19 Infections by Age')"
      ]
     },
     "execution_count": 69,
     "metadata": {},
     "output_type": "execute_result"
    },
    {
     "data": {
      "image/png": "[encoded data removed]",
      "text/plain": [
       "<Figure size 720x720 with 1 Axes>"
      ]
     },
     "metadata": {
      "needs_background": "light"
     },
     "output_type": "display_data"
    }
   ],
   "source": [
    "plt.figure(figsize=(10, 10))\n",
    "barlist= plt.bar(calculated_graph.loc[:,'Age_Group'],calculated_graph.loc[:,'Infected'], color= 'green')\n",
    "barlist[0].set_color('blue')\n",
    "barlist[1].set_color('red')\n",
    "barlist[2].set_color('orange')\n",
    "barlist[3].set_color('cyan')\n",
    "barlist[4].set_color('yellow')\n",
    "barlist[5].set_color('m')\n",
    "barlist[6].set_color('black')\n",
    "barlist[7].set_color('purple')\n",
    "barlist[8].set_color('pink')\n",
    "plt.xlabel('Age Range')\n",
    "plt.ylabel ('Infections')\n",
    "plt.title('Total COVID-19 Infections by Age')\n",
    "\n",
    "\n"
   ]
  },
  {
   "cell_type": "code",
   "execution_count": 39,
   "metadata": {},
   "outputs": [],
   "source": [
    "df = pd.read_csv('C:/Users/epicr/Downloads/Datatest.csv')"
   ]
  }
 ],
 "metadata": {
  "kernelspec": {
   "display_name": "Python 3",
   "language": "python",
   "name": "python3"
  },
  "language_info": {
   "codemirror_mode": {
    "name": "ipython",
    "version": 3
   },
   "file_extension": ".py",
   "mimetype": "text/x-python",
   "name": "python",
   "nbconvert_exporter": "python",
   "pygments_lexer": "ipython3",
   "version": "3.7.6"
  }
 },
 "nbformat": 4,
 "nbformat_minor": 4
}
